{
 "cells": [
  {
   "cell_type": "markdown",
   "metadata": {},
   "source": [
    "We'll be working to clean and analyze a dataset of used cars from eBay Kleinanzeigen, a classifieds section of the German eBay website. I'm using a sampled set from the original set found on Kaggle (https://www.kaggle.com/orgesleka/used-cars-database/data)."
   ]
  },
  {
   "cell_type": "code",
   "execution_count": 68,
   "metadata": {},
   "outputs": [],
   "source": [
    "#importing modules\n",
    "import pandas as pd\n",
    "import numpy as np\n",
    "\n",
    "autos = pd.read_csv(\"autos.csv\", encoding=\"Latin-1\")"
   ]
  },
  {
   "cell_type": "code",
   "execution_count": 69,
   "metadata": {
    "tags": []
   },
   "outputs": [
    {
     "output_type": "stream",
     "name": "stdout",
     "text": "<class 'pandas.core.frame.DataFrame'>\nRangeIndex: 50000 entries, 0 to 49999\nData columns (total 20 columns):\n #   Column               Non-Null Count  Dtype \n---  ------               --------------  ----- \n 0   dateCrawled          50000 non-null  object\n 1   name                 50000 non-null  object\n 2   seller               50000 non-null  object\n 3   offerType            50000 non-null  object\n 4   price                50000 non-null  object\n 5   abtest               50000 non-null  object\n 6   vehicleType          44905 non-null  object\n 7   yearOfRegistration   50000 non-null  int64 \n 8   gearbox              47320 non-null  object\n 9   powerPS              50000 non-null  int64 \n 10  model                47242 non-null  object\n 11  odometer             50000 non-null  object\n 12  monthOfRegistration  50000 non-null  int64 \n 13  fuelType             45518 non-null  object\n 14  brand                50000 non-null  object\n 15  notRepairedDamage    40171 non-null  object\n 16  dateCreated          50000 non-null  object\n 17  nrOfPictures         50000 non-null  int64 \n 18  postalCode           50000 non-null  int64 \n 19  lastSeen             50000 non-null  object\ndtypes: int64(5), object(15)\nmemory usage: 7.6+ MB\n"
    }
   ],
   "source": [
    "#return columns and data types\n",
    "autos.info()"
   ]
  },
  {
   "cell_type": "code",
   "execution_count": 70,
   "metadata": {},
   "outputs": [
    {
     "output_type": "execute_result",
     "data": {
      "text/plain": "           dateCrawled                                               name  \\\n0  2016-03-26 17:47:46                   Peugeot_807_160_NAVTECH_ON_BOARD   \n1  2016-04-04 13:38:56         BMW_740i_4_4_Liter_HAMANN_UMBAU_Mega_Optik   \n2  2016-03-26 18:57:24                         Volkswagen_Golf_1.6_United   \n3  2016-03-12 16:58:10  Smart_smart_fortwo_coupe_softouch/F1/Klima/Pan...   \n4  2016-04-01 14:38:50  Ford_Focus_1_6_Benzin_TÜV_neu_ist_sehr_gepfleg...   \n\n   seller offerType   price   abtest vehicleType  yearOfRegistration  \\\n0  privat   Angebot  $5,000  control         bus                2004   \n1  privat   Angebot  $8,500  control   limousine                1997   \n2  privat   Angebot  $8,990     test   limousine                2009   \n3  privat   Angebot  $4,350  control  kleinwagen                2007   \n4  privat   Angebot  $1,350     test       kombi                2003   \n\n     gearbox  powerPS   model   odometer  monthOfRegistration fuelType  \\\n0    manuell      158  andere  150,000km                    3      lpg   \n1  automatik      286     7er  150,000km                    6   benzin   \n2    manuell      102    golf   70,000km                    7   benzin   \n3  automatik       71  fortwo   70,000km                    6   benzin   \n4    manuell        0   focus  150,000km                    7   benzin   \n\n        brand notRepairedDamage          dateCreated  nrOfPictures  \\\n0     peugeot              nein  2016-03-26 00:00:00             0   \n1         bmw              nein  2016-04-04 00:00:00             0   \n2  volkswagen              nein  2016-03-26 00:00:00             0   \n3       smart              nein  2016-03-12 00:00:00             0   \n4        ford              nein  2016-04-01 00:00:00             0   \n\n   postalCode             lastSeen  \n0       79588  2016-04-06 06:45:54  \n1       71034  2016-04-06 14:45:08  \n2       35394  2016-04-06 20:15:37  \n3       33729  2016-03-15 03:16:28  \n4       39218  2016-04-01 14:38:50  ",
      "text/html": "<div>\n<style scoped>\n    .dataframe tbody tr th:only-of-type {\n        vertical-align: middle;\n    }\n\n    .dataframe tbody tr th {\n        vertical-align: top;\n    }\n\n    .dataframe thead th {\n        text-align: right;\n    }\n</style>\n<table border=\"1\" class=\"dataframe\">\n  <thead>\n    <tr style=\"text-align: right;\">\n      <th></th>\n      <th>dateCrawled</th>\n      <th>name</th>\n      <th>seller</th>\n      <th>offerType</th>\n      <th>price</th>\n      <th>abtest</th>\n      <th>vehicleType</th>\n      <th>yearOfRegistration</th>\n      <th>gearbox</th>\n      <th>powerPS</th>\n      <th>model</th>\n      <th>odometer</th>\n      <th>monthOfRegistration</th>\n      <th>fuelType</th>\n      <th>brand</th>\n      <th>notRepairedDamage</th>\n      <th>dateCreated</th>\n      <th>nrOfPictures</th>\n      <th>postalCode</th>\n      <th>lastSeen</th>\n    </tr>\n  </thead>\n  <tbody>\n    <tr>\n      <th>0</th>\n      <td>2016-03-26 17:47:46</td>\n      <td>Peugeot_807_160_NAVTECH_ON_BOARD</td>\n      <td>privat</td>\n      <td>Angebot</td>\n      <td>$5,000</td>\n      <td>control</td>\n      <td>bus</td>\n      <td>2004</td>\n      <td>manuell</td>\n      <td>158</td>\n      <td>andere</td>\n      <td>150,000km</td>\n      <td>3</td>\n      <td>lpg</td>\n      <td>peugeot</td>\n      <td>nein</td>\n      <td>2016-03-26 00:00:00</td>\n      <td>0</td>\n      <td>79588</td>\n      <td>2016-04-06 06:45:54</td>\n    </tr>\n    <tr>\n      <th>1</th>\n      <td>2016-04-04 13:38:56</td>\n      <td>BMW_740i_4_4_Liter_HAMANN_UMBAU_Mega_Optik</td>\n      <td>privat</td>\n      <td>Angebot</td>\n      <td>$8,500</td>\n      <td>control</td>\n      <td>limousine</td>\n      <td>1997</td>\n      <td>automatik</td>\n      <td>286</td>\n      <td>7er</td>\n      <td>150,000km</td>\n      <td>6</td>\n      <td>benzin</td>\n      <td>bmw</td>\n      <td>nein</td>\n      <td>2016-04-04 00:00:00</td>\n      <td>0</td>\n      <td>71034</td>\n      <td>2016-04-06 14:45:08</td>\n    </tr>\n    <tr>\n      <th>2</th>\n      <td>2016-03-26 18:57:24</td>\n      <td>Volkswagen_Golf_1.6_United</td>\n      <td>privat</td>\n      <td>Angebot</td>\n      <td>$8,990</td>\n      <td>test</td>\n      <td>limousine</td>\n      <td>2009</td>\n      <td>manuell</td>\n      <td>102</td>\n      <td>golf</td>\n      <td>70,000km</td>\n      <td>7</td>\n      <td>benzin</td>\n      <td>volkswagen</td>\n      <td>nein</td>\n      <td>2016-03-26 00:00:00</td>\n      <td>0</td>\n      <td>35394</td>\n      <td>2016-04-06 20:15:37</td>\n    </tr>\n    <tr>\n      <th>3</th>\n      <td>2016-03-12 16:58:10</td>\n      <td>Smart_smart_fortwo_coupe_softouch/F1/Klima/Pan...</td>\n      <td>privat</td>\n      <td>Angebot</td>\n      <td>$4,350</td>\n      <td>control</td>\n      <td>kleinwagen</td>\n      <td>2007</td>\n      <td>automatik</td>\n      <td>71</td>\n      <td>fortwo</td>\n      <td>70,000km</td>\n      <td>6</td>\n      <td>benzin</td>\n      <td>smart</td>\n      <td>nein</td>\n      <td>2016-03-12 00:00:00</td>\n      <td>0</td>\n      <td>33729</td>\n      <td>2016-03-15 03:16:28</td>\n    </tr>\n    <tr>\n      <th>4</th>\n      <td>2016-04-01 14:38:50</td>\n      <td>Ford_Focus_1_6_Benzin_TÜV_neu_ist_sehr_gepfleg...</td>\n      <td>privat</td>\n      <td>Angebot</td>\n      <td>$1,350</td>\n      <td>test</td>\n      <td>kombi</td>\n      <td>2003</td>\n      <td>manuell</td>\n      <td>0</td>\n      <td>focus</td>\n      <td>150,000km</td>\n      <td>7</td>\n      <td>benzin</td>\n      <td>ford</td>\n      <td>nein</td>\n      <td>2016-04-01 00:00:00</td>\n      <td>0</td>\n      <td>39218</td>\n      <td>2016-04-01 14:38:50</td>\n    </tr>\n  </tbody>\n</table>\n</div>"
     },
     "metadata": {},
     "execution_count": 70
    }
   ],
   "source": [
    "#preview the first few rows of the data\n",
    "autos.head()"
   ]
  },
  {
   "cell_type": "markdown",
   "metadata": {},
   "source": [
    "The data has 19 columns for each car. I'm noticing a few things:\n",
    "\n",
    "1. I'm noticing some of the columns look like they're written in German, which we may need to take into account. \n",
    "2. I'm also noticing some of the columns I would expect to be datetime / int / float are objects, for example dateCrawled is an object (should be datetime), price is an object (should be float or int), and odometer is an object (should be float or int). So I'm anticipating that I'll clean these columns to make the data more easy with which to work. \n",
    "3. Some columns, like vehiclyType, have some null values. But it's only 5 columns that have null values, and they have less than 20% null values, so not actually that many out of the 19 and it's not significant in the columns that do have null values. I'm guessing I'll investigate those."
   ]
  },
  {
   "cell_type": "code",
   "execution_count": 71,
   "metadata": {},
   "outputs": [
    {
     "output_type": "execute_result",
     "data": {
      "text/plain": "          date_crawled                                               name  \\\n0  2016-03-26 17:47:46                   Peugeot_807_160_NAVTECH_ON_BOARD   \n1  2016-04-04 13:38:56         BMW_740i_4_4_Liter_HAMANN_UMBAU_Mega_Optik   \n2  2016-03-26 18:57:24                         Volkswagen_Golf_1.6_United   \n3  2016-03-12 16:58:10  Smart_smart_fortwo_coupe_softouch/F1/Klima/Pan...   \n4  2016-04-01 14:38:50  Ford_Focus_1_6_Benzin_TÜV_neu_ist_sehr_gepfleg...   \n\n   seller offer_type   price   abtest vehicle_type  registration_year  \\\n0  privat    Angebot  $5,000  control          bus               2004   \n1  privat    Angebot  $8,500  control    limousine               1997   \n2  privat    Angebot  $8,990     test    limousine               2009   \n3  privat    Angebot  $4,350  control   kleinwagen               2007   \n4  privat    Angebot  $1,350     test        kombi               2003   \n\n     gearbox  power_p_s   model   odometer  registration_month fuel_type  \\\n0    manuell        158  andere  150,000km                   3       lpg   \n1  automatik        286     7er  150,000km                   6    benzin   \n2    manuell        102    golf   70,000km                   7    benzin   \n3  automatik         71  fortwo   70,000km                   6    benzin   \n4    manuell          0   focus  150,000km                   7    benzin   \n\n        brand unrepaired_damage           ad_created  nr_of_pictures  \\\n0     peugeot              nein  2016-03-26 00:00:00               0   \n1         bmw              nein  2016-04-04 00:00:00               0   \n2  volkswagen              nein  2016-03-26 00:00:00               0   \n3       smart              nein  2016-03-12 00:00:00               0   \n4        ford              nein  2016-04-01 00:00:00               0   \n\n   postal_code            last_seen  \n0        79588  2016-04-06 06:45:54  \n1        71034  2016-04-06 14:45:08  \n2        35394  2016-04-06 20:15:37  \n3        33729  2016-03-15 03:16:28  \n4        39218  2016-04-01 14:38:50  ",
      "text/html": "<div>\n<style scoped>\n    .dataframe tbody tr th:only-of-type {\n        vertical-align: middle;\n    }\n\n    .dataframe tbody tr th {\n        vertical-align: top;\n    }\n\n    .dataframe thead th {\n        text-align: right;\n    }\n</style>\n<table border=\"1\" class=\"dataframe\">\n  <thead>\n    <tr style=\"text-align: right;\">\n      <th></th>\n      <th>date_crawled</th>\n      <th>name</th>\n      <th>seller</th>\n      <th>offer_type</th>\n      <th>price</th>\n      <th>abtest</th>\n      <th>vehicle_type</th>\n      <th>registration_year</th>\n      <th>gearbox</th>\n      <th>power_p_s</th>\n      <th>model</th>\n      <th>odometer</th>\n      <th>registration_month</th>\n      <th>fuel_type</th>\n      <th>brand</th>\n      <th>unrepaired_damage</th>\n      <th>ad_created</th>\n      <th>nr_of_pictures</th>\n      <th>postal_code</th>\n      <th>last_seen</th>\n    </tr>\n  </thead>\n  <tbody>\n    <tr>\n      <th>0</th>\n      <td>2016-03-26 17:47:46</td>\n      <td>Peugeot_807_160_NAVTECH_ON_BOARD</td>\n      <td>privat</td>\n      <td>Angebot</td>\n      <td>$5,000</td>\n      <td>control</td>\n      <td>bus</td>\n      <td>2004</td>\n      <td>manuell</td>\n      <td>158</td>\n      <td>andere</td>\n      <td>150,000km</td>\n      <td>3</td>\n      <td>lpg</td>\n      <td>peugeot</td>\n      <td>nein</td>\n      <td>2016-03-26 00:00:00</td>\n      <td>0</td>\n      <td>79588</td>\n      <td>2016-04-06 06:45:54</td>\n    </tr>\n    <tr>\n      <th>1</th>\n      <td>2016-04-04 13:38:56</td>\n      <td>BMW_740i_4_4_Liter_HAMANN_UMBAU_Mega_Optik</td>\n      <td>privat</td>\n      <td>Angebot</td>\n      <td>$8,500</td>\n      <td>control</td>\n      <td>limousine</td>\n      <td>1997</td>\n      <td>automatik</td>\n      <td>286</td>\n      <td>7er</td>\n      <td>150,000km</td>\n      <td>6</td>\n      <td>benzin</td>\n      <td>bmw</td>\n      <td>nein</td>\n      <td>2016-04-04 00:00:00</td>\n      <td>0</td>\n      <td>71034</td>\n      <td>2016-04-06 14:45:08</td>\n    </tr>\n    <tr>\n      <th>2</th>\n      <td>2016-03-26 18:57:24</td>\n      <td>Volkswagen_Golf_1.6_United</td>\n      <td>privat</td>\n      <td>Angebot</td>\n      <td>$8,990</td>\n      <td>test</td>\n      <td>limousine</td>\n      <td>2009</td>\n      <td>manuell</td>\n      <td>102</td>\n      <td>golf</td>\n      <td>70,000km</td>\n      <td>7</td>\n      <td>benzin</td>\n      <td>volkswagen</td>\n      <td>nein</td>\n      <td>2016-03-26 00:00:00</td>\n      <td>0</td>\n      <td>35394</td>\n      <td>2016-04-06 20:15:37</td>\n    </tr>\n    <tr>\n      <th>3</th>\n      <td>2016-03-12 16:58:10</td>\n      <td>Smart_smart_fortwo_coupe_softouch/F1/Klima/Pan...</td>\n      <td>privat</td>\n      <td>Angebot</td>\n      <td>$4,350</td>\n      <td>control</td>\n      <td>kleinwagen</td>\n      <td>2007</td>\n      <td>automatik</td>\n      <td>71</td>\n      <td>fortwo</td>\n      <td>70,000km</td>\n      <td>6</td>\n      <td>benzin</td>\n      <td>smart</td>\n      <td>nein</td>\n      <td>2016-03-12 00:00:00</td>\n      <td>0</td>\n      <td>33729</td>\n      <td>2016-03-15 03:16:28</td>\n    </tr>\n    <tr>\n      <th>4</th>\n      <td>2016-04-01 14:38:50</td>\n      <td>Ford_Focus_1_6_Benzin_TÜV_neu_ist_sehr_gepfleg...</td>\n      <td>privat</td>\n      <td>Angebot</td>\n      <td>$1,350</td>\n      <td>test</td>\n      <td>kombi</td>\n      <td>2003</td>\n      <td>manuell</td>\n      <td>0</td>\n      <td>focus</td>\n      <td>150,000km</td>\n      <td>7</td>\n      <td>benzin</td>\n      <td>ford</td>\n      <td>nein</td>\n      <td>2016-04-01 00:00:00</td>\n      <td>0</td>\n      <td>39218</td>\n      <td>2016-04-01 14:38:50</td>\n    </tr>\n  </tbody>\n</table>\n</div>"
     },
     "metadata": {},
     "execution_count": 71
    }
   ],
   "source": [
    "#clean the column names\n",
    "columns = list(autos.columns)\n",
    "columns[7] = \"registration_year\"\n",
    "columns[12] = \"registration_month\"\n",
    "columns[15] = \"unrepaired_damage\"\n",
    "columns[16] = \"ad_created\"\n",
    "\n",
    "def change_case(str): \n",
    "    res = [str[0].lower()] \n",
    "    for c in str[1:]: \n",
    "        if c in ('ABCDEFGHIJKLMNOPQRSTUVWXYZ'): \n",
    "            res.append('_') \n",
    "            res.append(c.lower()) \n",
    "        else: \n",
    "            res.append(c) \n",
    "      \n",
    "    return ''.join(res)\n",
    "\n",
    "index = 0\n",
    "for i in columns:\n",
    "    columns[index] = change_case(i)\n",
    "    index += 1\n",
    "\n",
    "autos.columns = columns\n",
    "autos.head()"
   ]
  },
  {
   "cell_type": "code",
   "execution_count": 72,
   "metadata": {},
   "outputs": [
    {
     "output_type": "execute_result",
     "data": {
      "text/plain": "               date_crawled         name  seller offer_type  price abtest  \\\ncount                 50000        50000   50000      50000  50000  50000   \nunique                48213        38754       2          2   2357      2   \ntop     2016-03-11 22:38:16  Ford_Fiesta  privat    Angebot     $0   test   \nfreq                      3           78   49999      49999   1421  25756   \nmean                    NaN          NaN     NaN        NaN    NaN    NaN   \nstd                     NaN          NaN     NaN        NaN    NaN    NaN   \nmin                     NaN          NaN     NaN        NaN    NaN    NaN   \n25%                     NaN          NaN     NaN        NaN    NaN    NaN   \n50%                     NaN          NaN     NaN        NaN    NaN    NaN   \n75%                     NaN          NaN     NaN        NaN    NaN    NaN   \nmax                     NaN          NaN     NaN        NaN    NaN    NaN   \n\n       vehicle_type  registration_year  gearbox     power_p_s  model  \\\ncount         44905       50000.000000    47320  50000.000000  47242   \nunique            8                NaN        2           NaN    245   \ntop       limousine                NaN  manuell           NaN   golf   \nfreq          12859                NaN    36993           NaN   4024   \nmean            NaN        2005.073280      NaN    116.355920    NaN   \nstd             NaN         105.712813      NaN    209.216627    NaN   \nmin             NaN        1000.000000      NaN      0.000000    NaN   \n25%             NaN        1999.000000      NaN     70.000000    NaN   \n50%             NaN        2003.000000      NaN    105.000000    NaN   \n75%             NaN        2008.000000      NaN    150.000000    NaN   \nmax             NaN        9999.000000      NaN  17700.000000    NaN   \n\n         odometer  registration_month fuel_type       brand unrepaired_damage  \\\ncount       50000        50000.000000     45518       50000             40171   \nunique         13                 NaN         7          40                 2   \ntop     150,000km                 NaN    benzin  volkswagen              nein   \nfreq        32424                 NaN     30107       10687             35232   \nmean          NaN            5.723360       NaN         NaN               NaN   \nstd           NaN            3.711984       NaN         NaN               NaN   \nmin           NaN            0.000000       NaN         NaN               NaN   \n25%           NaN            3.000000       NaN         NaN               NaN   \n50%           NaN            6.000000       NaN         NaN               NaN   \n75%           NaN            9.000000       NaN         NaN               NaN   \nmax           NaN           12.000000       NaN         NaN               NaN   \n\n                 ad_created  nr_of_pictures   postal_code            last_seen  \ncount                 50000         50000.0  50000.000000                50000  \nunique                   76             NaN           NaN                39481  \ntop     2016-04-03 00:00:00             NaN           NaN  2016-04-07 06:17:27  \nfreq                   1946             NaN           NaN                    8  \nmean                    NaN             0.0  50813.627300                  NaN  \nstd                     NaN             0.0  25779.747957                  NaN  \nmin                     NaN             0.0   1067.000000                  NaN  \n25%                     NaN             0.0  30451.000000                  NaN  \n50%                     NaN             0.0  49577.000000                  NaN  \n75%                     NaN             0.0  71540.000000                  NaN  \nmax                     NaN             0.0  99998.000000                  NaN  ",
      "text/html": "<div>\n<style scoped>\n    .dataframe tbody tr th:only-of-type {\n        vertical-align: middle;\n    }\n\n    .dataframe tbody tr th {\n        vertical-align: top;\n    }\n\n    .dataframe thead th {\n        text-align: right;\n    }\n</style>\n<table border=\"1\" class=\"dataframe\">\n  <thead>\n    <tr style=\"text-align: right;\">\n      <th></th>\n      <th>date_crawled</th>\n      <th>name</th>\n      <th>seller</th>\n      <th>offer_type</th>\n      <th>price</th>\n      <th>abtest</th>\n      <th>vehicle_type</th>\n      <th>registration_year</th>\n      <th>gearbox</th>\n      <th>power_p_s</th>\n      <th>model</th>\n      <th>odometer</th>\n      <th>registration_month</th>\n      <th>fuel_type</th>\n      <th>brand</th>\n      <th>unrepaired_damage</th>\n      <th>ad_created</th>\n      <th>nr_of_pictures</th>\n      <th>postal_code</th>\n      <th>last_seen</th>\n    </tr>\n  </thead>\n  <tbody>\n    <tr>\n      <th>count</th>\n      <td>50000</td>\n      <td>50000</td>\n      <td>50000</td>\n      <td>50000</td>\n      <td>50000</td>\n      <td>50000</td>\n      <td>44905</td>\n      <td>50000.000000</td>\n      <td>47320</td>\n      <td>50000.000000</td>\n      <td>47242</td>\n      <td>50000</td>\n      <td>50000.000000</td>\n      <td>45518</td>\n      <td>50000</td>\n      <td>40171</td>\n      <td>50000</td>\n      <td>50000.0</td>\n      <td>50000.000000</td>\n      <td>50000</td>\n    </tr>\n    <tr>\n      <th>unique</th>\n      <td>48213</td>\n      <td>38754</td>\n      <td>2</td>\n      <td>2</td>\n      <td>2357</td>\n      <td>2</td>\n      <td>8</td>\n      <td>NaN</td>\n      <td>2</td>\n      <td>NaN</td>\n      <td>245</td>\n      <td>13</td>\n      <td>NaN</td>\n      <td>7</td>\n      <td>40</td>\n      <td>2</td>\n      <td>76</td>\n      <td>NaN</td>\n      <td>NaN</td>\n      <td>39481</td>\n    </tr>\n    <tr>\n      <th>top</th>\n      <td>2016-03-11 22:38:16</td>\n      <td>Ford_Fiesta</td>\n      <td>privat</td>\n      <td>Angebot</td>\n      <td>$0</td>\n      <td>test</td>\n      <td>limousine</td>\n      <td>NaN</td>\n      <td>manuell</td>\n      <td>NaN</td>\n      <td>golf</td>\n      <td>150,000km</td>\n      <td>NaN</td>\n      <td>benzin</td>\n      <td>volkswagen</td>\n      <td>nein</td>\n      <td>2016-04-03 00:00:00</td>\n      <td>NaN</td>\n      <td>NaN</td>\n      <td>2016-04-07 06:17:27</td>\n    </tr>\n    <tr>\n      <th>freq</th>\n      <td>3</td>\n      <td>78</td>\n      <td>49999</td>\n      <td>49999</td>\n      <td>1421</td>\n      <td>25756</td>\n      <td>12859</td>\n      <td>NaN</td>\n      <td>36993</td>\n      <td>NaN</td>\n      <td>4024</td>\n      <td>32424</td>\n      <td>NaN</td>\n      <td>30107</td>\n      <td>10687</td>\n      <td>35232</td>\n      <td>1946</td>\n      <td>NaN</td>\n      <td>NaN</td>\n      <td>8</td>\n    </tr>\n    <tr>\n      <th>mean</th>\n      <td>NaN</td>\n      <td>NaN</td>\n      <td>NaN</td>\n      <td>NaN</td>\n      <td>NaN</td>\n      <td>NaN</td>\n      <td>NaN</td>\n      <td>2005.073280</td>\n      <td>NaN</td>\n      <td>116.355920</td>\n      <td>NaN</td>\n      <td>NaN</td>\n      <td>5.723360</td>\n      <td>NaN</td>\n      <td>NaN</td>\n      <td>NaN</td>\n      <td>NaN</td>\n      <td>0.0</td>\n      <td>50813.627300</td>\n      <td>NaN</td>\n    </tr>\n    <tr>\n      <th>std</th>\n      <td>NaN</td>\n      <td>NaN</td>\n      <td>NaN</td>\n      <td>NaN</td>\n      <td>NaN</td>\n      <td>NaN</td>\n      <td>NaN</td>\n      <td>105.712813</td>\n      <td>NaN</td>\n      <td>209.216627</td>\n      <td>NaN</td>\n      <td>NaN</td>\n      <td>3.711984</td>\n      <td>NaN</td>\n      <td>NaN</td>\n      <td>NaN</td>\n      <td>NaN</td>\n      <td>0.0</td>\n      <td>25779.747957</td>\n      <td>NaN</td>\n    </tr>\n    <tr>\n      <th>min</th>\n      <td>NaN</td>\n      <td>NaN</td>\n      <td>NaN</td>\n      <td>NaN</td>\n      <td>NaN</td>\n      <td>NaN</td>\n      <td>NaN</td>\n      <td>1000.000000</td>\n      <td>NaN</td>\n      <td>0.000000</td>\n      <td>NaN</td>\n      <td>NaN</td>\n      <td>0.000000</td>\n      <td>NaN</td>\n      <td>NaN</td>\n      <td>NaN</td>\n      <td>NaN</td>\n      <td>0.0</td>\n      <td>1067.000000</td>\n      <td>NaN</td>\n    </tr>\n    <tr>\n      <th>25%</th>\n      <td>NaN</td>\n      <td>NaN</td>\n      <td>NaN</td>\n      <td>NaN</td>\n      <td>NaN</td>\n      <td>NaN</td>\n      <td>NaN</td>\n      <td>1999.000000</td>\n      <td>NaN</td>\n      <td>70.000000</td>\n      <td>NaN</td>\n      <td>NaN</td>\n      <td>3.000000</td>\n      <td>NaN</td>\n      <td>NaN</td>\n      <td>NaN</td>\n      <td>NaN</td>\n      <td>0.0</td>\n      <td>30451.000000</td>\n      <td>NaN</td>\n    </tr>\n    <tr>\n      <th>50%</th>\n      <td>NaN</td>\n      <td>NaN</td>\n      <td>NaN</td>\n      <td>NaN</td>\n      <td>NaN</td>\n      <td>NaN</td>\n      <td>NaN</td>\n      <td>2003.000000</td>\n      <td>NaN</td>\n      <td>105.000000</td>\n      <td>NaN</td>\n      <td>NaN</td>\n      <td>6.000000</td>\n      <td>NaN</td>\n      <td>NaN</td>\n      <td>NaN</td>\n      <td>NaN</td>\n      <td>0.0</td>\n      <td>49577.000000</td>\n      <td>NaN</td>\n    </tr>\n    <tr>\n      <th>75%</th>\n      <td>NaN</td>\n      <td>NaN</td>\n      <td>NaN</td>\n      <td>NaN</td>\n      <td>NaN</td>\n      <td>NaN</td>\n      <td>NaN</td>\n      <td>2008.000000</td>\n      <td>NaN</td>\n      <td>150.000000</td>\n      <td>NaN</td>\n      <td>NaN</td>\n      <td>9.000000</td>\n      <td>NaN</td>\n      <td>NaN</td>\n      <td>NaN</td>\n      <td>NaN</td>\n      <td>0.0</td>\n      <td>71540.000000</td>\n      <td>NaN</td>\n    </tr>\n    <tr>\n      <th>max</th>\n      <td>NaN</td>\n      <td>NaN</td>\n      <td>NaN</td>\n      <td>NaN</td>\n      <td>NaN</td>\n      <td>NaN</td>\n      <td>NaN</td>\n      <td>9999.000000</td>\n      <td>NaN</td>\n      <td>17700.000000</td>\n      <td>NaN</td>\n      <td>NaN</td>\n      <td>12.000000</td>\n      <td>NaN</td>\n      <td>NaN</td>\n      <td>NaN</td>\n      <td>NaN</td>\n      <td>0.0</td>\n      <td>99998.000000</td>\n      <td>NaN</td>\n    </tr>\n  </tbody>\n</table>\n</div>"
     },
     "metadata": {},
     "execution_count": 72
    }
   ],
   "source": [
    "autos.describe(include='all')"
   ]
  },
  {
   "cell_type": "markdown",
   "metadata": {},
   "source": [
    "1. Columns to drop include seller and offer_type which have \"privat\" and \"Angebot\" 49,999 times.\n",
    "2. Columns that need more investigation include vehicle_type, gearbox, model, fuel_type, and unrepaired_damage because they have null values. \n",
    "3. Columns to change data types for include date_crawled, price, regisration_year, power_p_s, odometer, and ad_created.\n"
   ]
  },
  {
   "cell_type": "code",
   "execution_count": 73,
   "metadata": {},
   "outputs": [],
   "source": [
    "#convert price to numeric data type\n",
    "autos['price'] = autos['price'].str.replace('$','')\n",
    "autos['price'] = autos['price'].str.replace(',','')\n",
    "autos['price'] = pd.to_numeric(autos['price'])"
   ]
  },
  {
   "cell_type": "code",
   "execution_count": 74,
   "metadata": {},
   "outputs": [],
   "source": [
    "#convert odometer to numeric data type\n",
    "autos['odometer'] = autos['odometer'].str.replace('k','')\n",
    "autos['odometer'] = autos['odometer'].str.replace('m','')\n",
    "autos['odometer'] = autos['odometer'].str.replace(',','')\n",
    "autos['odometer'] = pd.to_numeric(autos['odometer'])"
   ]
  },
  {
   "cell_type": "code",
   "execution_count": 75,
   "metadata": {},
   "outputs": [
    {
     "output_type": "execute_result",
     "data": {
      "text/plain": "0        150000\n1        150000\n2         70000\n3         70000\n4        150000\n          ...  \n49995    100000\n49996    150000\n49997      5000\n49998     40000\n49999    150000\nName: odometer, Length: 50000, dtype: int64"
     },
     "metadata": {},
     "execution_count": 75
    }
   ],
   "source": [
    "autos[\"odometer\"]"
   ]
  },
  {
   "cell_type": "code",
   "execution_count": 76,
   "metadata": {},
   "outputs": [],
   "source": [
    "autos.rename(columns={\"odometer\": \"odometer_km\"}, inplace=True)"
   ]
  },
  {
   "cell_type": "code",
   "execution_count": 77,
   "metadata": {},
   "outputs": [
    {
     "output_type": "execute_result",
     "data": {
      "text/plain": "(2357,)"
     },
     "metadata": {},
     "execution_count": 77
    }
   ],
   "source": [
    "autos[\"price\"].unique().shape\n",
    "#There are 2,357 unqiue values"
   ]
  },
  {
   "cell_type": "code",
   "execution_count": 78,
   "metadata": {},
   "outputs": [
    {
     "output_type": "execute_result",
     "data": {
      "text/plain": "count    5.000000e+04\nmean     9.840044e+03\nstd      4.811044e+05\nmin      0.000000e+00\n25%      1.100000e+03\n50%      2.950000e+03\n75%      7.200000e+03\nmax      1.000000e+08\nName: price, dtype: float64"
     },
     "metadata": {},
     "execution_count": 78
    }
   ],
   "source": [
    "autos[\"price\"].describe()\n",
    "#mean price is $9,840\n",
    "#50% of all data falls within range of $1,100 to $7,200"
   ]
  },
  {
   "cell_type": "code",
   "execution_count": 79,
   "metadata": {},
   "outputs": [
    {
     "output_type": "execute_result",
     "data": {
      "text/plain": "0           1421\n1            156\n2              3\n3              1\n5              2\n            ... \n10000000       1\n11111111       2\n12345678       3\n27322222       1\n99999999       1\nName: price, Length: 2357, dtype: int64"
     },
     "metadata": {},
     "execution_count": 79
    }
   ],
   "source": [
    "autos[\"price\"].value_counts().sort_index(ascending=True)\n",
    "#looks like we do have some outliers, although they're all in the realm of possibility except for cars listed for $0 or close to $0 and a car with a price of $99,999,999. Seem like data entry errors to me. Let's explore these entries further."
   ]
  },
  {
   "cell_type": "code",
   "execution_count": 80,
   "metadata": {},
   "outputs": [
    {
     "output_type": "execute_result",
     "data": {
      "text/plain": "              date_crawled                                               name  \\\n2897   2016-03-12 21:50:57   Escort_MK_1_Hundeknochen_zum_umbauen_auf_RS_2000   \n24384  2016-03-21 13:57:51                            Schlachte_Golf_3_gt_tdi   \n27371  2016-03-09 15:45:47                                         Fiat_Punto   \n39377  2016-03-08 23:53:51                        Tausche_volvo_v40_gegen_van   \n39705  2016-03-22 14:58:27                        Tausch_gegen_gleichwertiges   \n42221  2016-03-08 20:39:05                                  Leasinguebernahme   \n47598  2016-03-31 18:56:54  Opel_Vectra_B_1_6i_16V_Facelift_Tuning_Showcar...   \n\n       seller offer_type     price   abtest vehicle_type  registration_year  \\\n2897   privat    Angebot  11111111     test    limousine               1973   \n24384  privat    Angebot  11111111     test          NaN               1995   \n27371  privat    Angebot  12345678  control          NaN               2017   \n39377  privat    Angebot  12345678  control          NaN               2018   \n39705  privat    Angebot  99999999  control    limousine               1999   \n42221  privat    Angebot  27322222  control    limousine               2014   \n47598  privat    Angebot  12345678  control    limousine               2001   \n\n         gearbox  power_p_s     model  odometer_km  registration_month  \\\n2897     manuell         48    escort        50000                   3   \n24384        NaN          0       NaN       150000                   0   \n27371        NaN         95     punto       150000                   0   \n39377    manuell         95       v40       150000                   6   \n39705  automatik        224  s_klasse       150000                   9   \n42221    manuell        163        c4        40000                   2   \n47598    manuell        101    vectra       150000                   3   \n\n      fuel_type          brand unrepaired_damage           ad_created  \\\n2897     benzin           ford              nein  2016-03-12 00:00:00   \n24384       NaN     volkswagen               NaN  2016-03-21 00:00:00   \n27371       NaN           fiat               NaN  2016-03-09 00:00:00   \n39377       NaN          volvo              nein  2016-03-08 00:00:00   \n39705    benzin  mercedes_benz               NaN  2016-03-22 00:00:00   \n42221    diesel        citroen               NaN  2016-03-08 00:00:00   \n47598    benzin           opel              nein  2016-03-31 00:00:00   \n\n       nr_of_pictures  postal_code            last_seen  \n2897                0        94469  2016-03-12 22:45:27  \n24384               0        18519  2016-03-21 14:40:18  \n27371               0        96110  2016-03-09 15:45:47  \n39377               0        14542  2016-04-06 23:17:31  \n39705               0        73525  2016-04-06 05:15:30  \n42221               0        76532  2016-03-08 20:39:05  \n47598               0         4356  2016-03-31 18:56:54  ",
      "text/html": "<div>\n<style scoped>\n    .dataframe tbody tr th:only-of-type {\n        vertical-align: middle;\n    }\n\n    .dataframe tbody tr th {\n        vertical-align: top;\n    }\n\n    .dataframe thead th {\n        text-align: right;\n    }\n</style>\n<table border=\"1\" class=\"dataframe\">\n  <thead>\n    <tr style=\"text-align: right;\">\n      <th></th>\n      <th>date_crawled</th>\n      <th>name</th>\n      <th>seller</th>\n      <th>offer_type</th>\n      <th>price</th>\n      <th>abtest</th>\n      <th>vehicle_type</th>\n      <th>registration_year</th>\n      <th>gearbox</th>\n      <th>power_p_s</th>\n      <th>model</th>\n      <th>odometer_km</th>\n      <th>registration_month</th>\n      <th>fuel_type</th>\n      <th>brand</th>\n      <th>unrepaired_damage</th>\n      <th>ad_created</th>\n      <th>nr_of_pictures</th>\n      <th>postal_code</th>\n      <th>last_seen</th>\n    </tr>\n  </thead>\n  <tbody>\n    <tr>\n      <th>2897</th>\n      <td>2016-03-12 21:50:57</td>\n      <td>Escort_MK_1_Hundeknochen_zum_umbauen_auf_RS_2000</td>\n      <td>privat</td>\n      <td>Angebot</td>\n      <td>11111111</td>\n      <td>test</td>\n      <td>limousine</td>\n      <td>1973</td>\n      <td>manuell</td>\n      <td>48</td>\n      <td>escort</td>\n      <td>50000</td>\n      <td>3</td>\n      <td>benzin</td>\n      <td>ford</td>\n      <td>nein</td>\n      <td>2016-03-12 00:00:00</td>\n      <td>0</td>\n      <td>94469</td>\n      <td>2016-03-12 22:45:27</td>\n    </tr>\n    <tr>\n      <th>24384</th>\n      <td>2016-03-21 13:57:51</td>\n      <td>Schlachte_Golf_3_gt_tdi</td>\n      <td>privat</td>\n      <td>Angebot</td>\n      <td>11111111</td>\n      <td>test</td>\n      <td>NaN</td>\n      <td>1995</td>\n      <td>NaN</td>\n      <td>0</td>\n      <td>NaN</td>\n      <td>150000</td>\n      <td>0</td>\n      <td>NaN</td>\n      <td>volkswagen</td>\n      <td>NaN</td>\n      <td>2016-03-21 00:00:00</td>\n      <td>0</td>\n      <td>18519</td>\n      <td>2016-03-21 14:40:18</td>\n    </tr>\n    <tr>\n      <th>27371</th>\n      <td>2016-03-09 15:45:47</td>\n      <td>Fiat_Punto</td>\n      <td>privat</td>\n      <td>Angebot</td>\n      <td>12345678</td>\n      <td>control</td>\n      <td>NaN</td>\n      <td>2017</td>\n      <td>NaN</td>\n      <td>95</td>\n      <td>punto</td>\n      <td>150000</td>\n      <td>0</td>\n      <td>NaN</td>\n      <td>fiat</td>\n      <td>NaN</td>\n      <td>2016-03-09 00:00:00</td>\n      <td>0</td>\n      <td>96110</td>\n      <td>2016-03-09 15:45:47</td>\n    </tr>\n    <tr>\n      <th>39377</th>\n      <td>2016-03-08 23:53:51</td>\n      <td>Tausche_volvo_v40_gegen_van</td>\n      <td>privat</td>\n      <td>Angebot</td>\n      <td>12345678</td>\n      <td>control</td>\n      <td>NaN</td>\n      <td>2018</td>\n      <td>manuell</td>\n      <td>95</td>\n      <td>v40</td>\n      <td>150000</td>\n      <td>6</td>\n      <td>NaN</td>\n      <td>volvo</td>\n      <td>nein</td>\n      <td>2016-03-08 00:00:00</td>\n      <td>0</td>\n      <td>14542</td>\n      <td>2016-04-06 23:17:31</td>\n    </tr>\n    <tr>\n      <th>39705</th>\n      <td>2016-03-22 14:58:27</td>\n      <td>Tausch_gegen_gleichwertiges</td>\n      <td>privat</td>\n      <td>Angebot</td>\n      <td>99999999</td>\n      <td>control</td>\n      <td>limousine</td>\n      <td>1999</td>\n      <td>automatik</td>\n      <td>224</td>\n      <td>s_klasse</td>\n      <td>150000</td>\n      <td>9</td>\n      <td>benzin</td>\n      <td>mercedes_benz</td>\n      <td>NaN</td>\n      <td>2016-03-22 00:00:00</td>\n      <td>0</td>\n      <td>73525</td>\n      <td>2016-04-06 05:15:30</td>\n    </tr>\n    <tr>\n      <th>42221</th>\n      <td>2016-03-08 20:39:05</td>\n      <td>Leasinguebernahme</td>\n      <td>privat</td>\n      <td>Angebot</td>\n      <td>27322222</td>\n      <td>control</td>\n      <td>limousine</td>\n      <td>2014</td>\n      <td>manuell</td>\n      <td>163</td>\n      <td>c4</td>\n      <td>40000</td>\n      <td>2</td>\n      <td>diesel</td>\n      <td>citroen</td>\n      <td>NaN</td>\n      <td>2016-03-08 00:00:00</td>\n      <td>0</td>\n      <td>76532</td>\n      <td>2016-03-08 20:39:05</td>\n    </tr>\n    <tr>\n      <th>47598</th>\n      <td>2016-03-31 18:56:54</td>\n      <td>Opel_Vectra_B_1_6i_16V_Facelift_Tuning_Showcar...</td>\n      <td>privat</td>\n      <td>Angebot</td>\n      <td>12345678</td>\n      <td>control</td>\n      <td>limousine</td>\n      <td>2001</td>\n      <td>manuell</td>\n      <td>101</td>\n      <td>vectra</td>\n      <td>150000</td>\n      <td>3</td>\n      <td>benzin</td>\n      <td>opel</td>\n      <td>nein</td>\n      <td>2016-03-31 00:00:00</td>\n      <td>0</td>\n      <td>4356</td>\n      <td>2016-03-31 18:56:54</td>\n    </tr>\n  </tbody>\n</table>\n</div>"
     },
     "metadata": {},
     "execution_count": 80
    }
   ],
   "source": [
    "autos[(autos[\"price\"]>10000000)]\n",
    "#Upon google searching, a Golf Schlachte and Fiat Punto are definitely not worth in the 10s of millions of dollars. That makes me think these entries, and likely additional entries with even lower prices, are outliers I should remove."
   ]
  },
  {
   "cell_type": "code",
   "execution_count": 81,
   "metadata": {},
   "outputs": [
    {
     "output_type": "execute_result",
     "data": {
      "text/plain": "              date_crawled                                               name  \\\n27     2016-03-27 18:45:01             Hat_einer_Ahnung_mit_Ford_Galaxy_HILFE   \n55     2016-03-07 02:47:54                     Mercedes_E320_AMG_zu_Tauschen!   \n71     2016-03-28 19:39:35  Suche_Opel_Astra_F__Corsa_oder_Kadett_E_mit_Re...   \n80     2016-03-09 15:57:57  Nissan_Primera_Hatchback_1_6_16v_73_Kw___99Ps_...   \n87     2016-03-29 23:37:22                      Bmw_520_e39_zum_ausschlachten   \n...                    ...                                                ...   \n49884  2016-03-11 13:55:30               Audi_a6_2.5l__Schnaeppchen_nur_heute   \n49943  2016-03-16 20:46:08                                         Opel_astra   \n49960  2016-03-25 22:51:55            Ford_KA_zu_verschenken_***Reserviert***   \n49974  2016-03-20 10:52:31  Golf_1_Cabrio_Tuev_Neu_viele_Extras_alles_eing...   \n49984  2016-03-31 22:48:48  Student_sucht_ein__Anfaengerauto___ab_2000_BJ_...   \n\n       seller offer_type  price   abtest vehicle_type  registration_year  \\\n27     privat    Angebot      0  control          NaN               2005   \n55     privat    Angebot      1     test          NaN               2017   \n71     privat    Angebot      0  control          NaN               1990   \n80     privat    Angebot      0  control        coupe               1999   \n87     privat    Angebot      0  control          NaN               2000   \n...       ...        ...    ...      ...          ...                ...   \n49884  privat    Angebot      0     test        kombi               1999   \n49943  privat    Angebot      0  control          NaN               2016   \n49960  privat    Angebot      0  control   kleinwagen               1999   \n49974  privat    Angebot      0  control       cabrio               1983   \n49984  privat    Angebot      0     test          NaN               2000   \n\n         gearbox  power_p_s     model  odometer_km  registration_month  \\\n27           NaN          0       NaN       150000                   0   \n55     automatik        224  e_klasse       125000                   7   \n71       manuell          0       NaN         5000                   0   \n80       manuell         99   primera       150000                   3   \n87           NaN          0       5er       150000                   0   \n...          ...        ...       ...          ...                 ...   \n49884    manuell        150        a6       150000                  11   \n49943    manuell        101     astra       150000                   8   \n49960    manuell         60        ka       150000                   6   \n49974    manuell         70      golf       150000                   2   \n49984        NaN          0       NaN       150000                   0   \n\n      fuel_type           brand unrepaired_damage           ad_created  \\\n27          NaN            ford               NaN  2016-03-27 00:00:00   \n55       benzin   mercedes_benz              nein  2016-03-06 00:00:00   \n71       benzin            opel               NaN  2016-03-28 00:00:00   \n80       benzin          nissan                ja  2016-03-09 00:00:00   \n87          NaN             bmw               NaN  2016-03-29 00:00:00   \n...         ...             ...               ...                  ...   \n49884    diesel            audi               NaN  2016-03-11 00:00:00   \n49943    benzin            opel               NaN  2016-03-16 00:00:00   \n49960    benzin            ford               NaN  2016-03-25 00:00:00   \n49974    benzin      volkswagen              nein  2016-03-20 00:00:00   \n49984       NaN  sonstige_autos               NaN  2016-03-31 00:00:00   \n\n       nr_of_pictures  postal_code            last_seen  \n27                  0        66701  2016-03-27 18:45:01  \n55                  0        22111  2016-03-08 05:45:44  \n71                  0         4552  2016-04-07 01:45:48  \n80                  0        66903  2016-03-09 16:43:50  \n87                  0        82256  2016-04-06 21:18:15  \n...               ...          ...                  ...  \n49884               0        27711  2016-03-12 03:17:08  \n49943               0        89134  2016-03-17 19:44:20  \n49960               0        34355  2016-03-25 22:51:55  \n49974               0         8209  2016-03-27 19:48:16  \n49984               0        12103  2016-04-02 19:44:53  \n\n[1585 rows x 20 columns]",
      "text/html": "<div>\n<style scoped>\n    .dataframe tbody tr th:only-of-type {\n        vertical-align: middle;\n    }\n\n    .dataframe tbody tr th {\n        vertical-align: top;\n    }\n\n    .dataframe thead th {\n        text-align: right;\n    }\n</style>\n<table border=\"1\" class=\"dataframe\">\n  <thead>\n    <tr style=\"text-align: right;\">\n      <th></th>\n      <th>date_crawled</th>\n      <th>name</th>\n      <th>seller</th>\n      <th>offer_type</th>\n      <th>price</th>\n      <th>abtest</th>\n      <th>vehicle_type</th>\n      <th>registration_year</th>\n      <th>gearbox</th>\n      <th>power_p_s</th>\n      <th>model</th>\n      <th>odometer_km</th>\n      <th>registration_month</th>\n      <th>fuel_type</th>\n      <th>brand</th>\n      <th>unrepaired_damage</th>\n      <th>ad_created</th>\n      <th>nr_of_pictures</th>\n      <th>postal_code</th>\n      <th>last_seen</th>\n    </tr>\n  </thead>\n  <tbody>\n    <tr>\n      <th>27</th>\n      <td>2016-03-27 18:45:01</td>\n      <td>Hat_einer_Ahnung_mit_Ford_Galaxy_HILFE</td>\n      <td>privat</td>\n      <td>Angebot</td>\n      <td>0</td>\n      <td>control</td>\n      <td>NaN</td>\n      <td>2005</td>\n      <td>NaN</td>\n      <td>0</td>\n      <td>NaN</td>\n      <td>150000</td>\n      <td>0</td>\n      <td>NaN</td>\n      <td>ford</td>\n      <td>NaN</td>\n      <td>2016-03-27 00:00:00</td>\n      <td>0</td>\n      <td>66701</td>\n      <td>2016-03-27 18:45:01</td>\n    </tr>\n    <tr>\n      <th>55</th>\n      <td>2016-03-07 02:47:54</td>\n      <td>Mercedes_E320_AMG_zu_Tauschen!</td>\n      <td>privat</td>\n      <td>Angebot</td>\n      <td>1</td>\n      <td>test</td>\n      <td>NaN</td>\n      <td>2017</td>\n      <td>automatik</td>\n      <td>224</td>\n      <td>e_klasse</td>\n      <td>125000</td>\n      <td>7</td>\n      <td>benzin</td>\n      <td>mercedes_benz</td>\n      <td>nein</td>\n      <td>2016-03-06 00:00:00</td>\n      <td>0</td>\n      <td>22111</td>\n      <td>2016-03-08 05:45:44</td>\n    </tr>\n    <tr>\n      <th>71</th>\n      <td>2016-03-28 19:39:35</td>\n      <td>Suche_Opel_Astra_F__Corsa_oder_Kadett_E_mit_Re...</td>\n      <td>privat</td>\n      <td>Angebot</td>\n      <td>0</td>\n      <td>control</td>\n      <td>NaN</td>\n      <td>1990</td>\n      <td>manuell</td>\n      <td>0</td>\n      <td>NaN</td>\n      <td>5000</td>\n      <td>0</td>\n      <td>benzin</td>\n      <td>opel</td>\n      <td>NaN</td>\n      <td>2016-03-28 00:00:00</td>\n      <td>0</td>\n      <td>4552</td>\n      <td>2016-04-07 01:45:48</td>\n    </tr>\n    <tr>\n      <th>80</th>\n      <td>2016-03-09 15:57:57</td>\n      <td>Nissan_Primera_Hatchback_1_6_16v_73_Kw___99Ps_...</td>\n      <td>privat</td>\n      <td>Angebot</td>\n      <td>0</td>\n      <td>control</td>\n      <td>coupe</td>\n      <td>1999</td>\n      <td>manuell</td>\n      <td>99</td>\n      <td>primera</td>\n      <td>150000</td>\n      <td>3</td>\n      <td>benzin</td>\n      <td>nissan</td>\n      <td>ja</td>\n      <td>2016-03-09 00:00:00</td>\n      <td>0</td>\n      <td>66903</td>\n      <td>2016-03-09 16:43:50</td>\n    </tr>\n    <tr>\n      <th>87</th>\n      <td>2016-03-29 23:37:22</td>\n      <td>Bmw_520_e39_zum_ausschlachten</td>\n      <td>privat</td>\n      <td>Angebot</td>\n      <td>0</td>\n      <td>control</td>\n      <td>NaN</td>\n      <td>2000</td>\n      <td>NaN</td>\n      <td>0</td>\n      <td>5er</td>\n      <td>150000</td>\n      <td>0</td>\n      <td>NaN</td>\n      <td>bmw</td>\n      <td>NaN</td>\n      <td>2016-03-29 00:00:00</td>\n      <td>0</td>\n      <td>82256</td>\n      <td>2016-04-06 21:18:15</td>\n    </tr>\n    <tr>\n      <th>...</th>\n      <td>...</td>\n      <td>...</td>\n      <td>...</td>\n      <td>...</td>\n      <td>...</td>\n      <td>...</td>\n      <td>...</td>\n      <td>...</td>\n      <td>...</td>\n      <td>...</td>\n      <td>...</td>\n      <td>...</td>\n      <td>...</td>\n      <td>...</td>\n      <td>...</td>\n      <td>...</td>\n      <td>...</td>\n      <td>...</td>\n      <td>...</td>\n      <td>...</td>\n    </tr>\n    <tr>\n      <th>49884</th>\n      <td>2016-03-11 13:55:30</td>\n      <td>Audi_a6_2.5l__Schnaeppchen_nur_heute</td>\n      <td>privat</td>\n      <td>Angebot</td>\n      <td>0</td>\n      <td>test</td>\n      <td>kombi</td>\n      <td>1999</td>\n      <td>manuell</td>\n      <td>150</td>\n      <td>a6</td>\n      <td>150000</td>\n      <td>11</td>\n      <td>diesel</td>\n      <td>audi</td>\n      <td>NaN</td>\n      <td>2016-03-11 00:00:00</td>\n      <td>0</td>\n      <td>27711</td>\n      <td>2016-03-12 03:17:08</td>\n    </tr>\n    <tr>\n      <th>49943</th>\n      <td>2016-03-16 20:46:08</td>\n      <td>Opel_astra</td>\n      <td>privat</td>\n      <td>Angebot</td>\n      <td>0</td>\n      <td>control</td>\n      <td>NaN</td>\n      <td>2016</td>\n      <td>manuell</td>\n      <td>101</td>\n      <td>astra</td>\n      <td>150000</td>\n      <td>8</td>\n      <td>benzin</td>\n      <td>opel</td>\n      <td>NaN</td>\n      <td>2016-03-16 00:00:00</td>\n      <td>0</td>\n      <td>89134</td>\n      <td>2016-03-17 19:44:20</td>\n    </tr>\n    <tr>\n      <th>49960</th>\n      <td>2016-03-25 22:51:55</td>\n      <td>Ford_KA_zu_verschenken_***Reserviert***</td>\n      <td>privat</td>\n      <td>Angebot</td>\n      <td>0</td>\n      <td>control</td>\n      <td>kleinwagen</td>\n      <td>1999</td>\n      <td>manuell</td>\n      <td>60</td>\n      <td>ka</td>\n      <td>150000</td>\n      <td>6</td>\n      <td>benzin</td>\n      <td>ford</td>\n      <td>NaN</td>\n      <td>2016-03-25 00:00:00</td>\n      <td>0</td>\n      <td>34355</td>\n      <td>2016-03-25 22:51:55</td>\n    </tr>\n    <tr>\n      <th>49974</th>\n      <td>2016-03-20 10:52:31</td>\n      <td>Golf_1_Cabrio_Tuev_Neu_viele_Extras_alles_eing...</td>\n      <td>privat</td>\n      <td>Angebot</td>\n      <td>0</td>\n      <td>control</td>\n      <td>cabrio</td>\n      <td>1983</td>\n      <td>manuell</td>\n      <td>70</td>\n      <td>golf</td>\n      <td>150000</td>\n      <td>2</td>\n      <td>benzin</td>\n      <td>volkswagen</td>\n      <td>nein</td>\n      <td>2016-03-20 00:00:00</td>\n      <td>0</td>\n      <td>8209</td>\n      <td>2016-03-27 19:48:16</td>\n    </tr>\n    <tr>\n      <th>49984</th>\n      <td>2016-03-31 22:48:48</td>\n      <td>Student_sucht_ein__Anfaengerauto___ab_2000_BJ_...</td>\n      <td>privat</td>\n      <td>Angebot</td>\n      <td>0</td>\n      <td>test</td>\n      <td>NaN</td>\n      <td>2000</td>\n      <td>NaN</td>\n      <td>0</td>\n      <td>NaN</td>\n      <td>150000</td>\n      <td>0</td>\n      <td>NaN</td>\n      <td>sonstige_autos</td>\n      <td>NaN</td>\n      <td>2016-03-31 00:00:00</td>\n      <td>0</td>\n      <td>12103</td>\n      <td>2016-04-02 19:44:53</td>\n    </tr>\n  </tbody>\n</table>\n<p>1585 rows × 20 columns</p>\n</div>"
     },
     "metadata": {},
     "execution_count": 81
    }
   ],
   "source": [
    "autos[(autos[\"price\"]<10)]"
   ]
  },
  {
   "cell_type": "code",
   "execution_count": 82,
   "metadata": {},
   "outputs": [
    {
     "output_type": "execute_result",
     "data": {
      "text/plain": "0     1421\n1      156\n2        3\n3        1\n5        2\n8        1\n9        1\n10       7\n11       2\n12       3\n13       2\n14       1\n15       2\n17       3\n18       1\n20       4\n25       5\n29       1\n30       7\n35       1\nName: price, dtype: int64"
     },
     "metadata": {},
     "execution_count": 82
    }
   ],
   "source": [
    "#So I need to look at the data more granularly to decide where my outlier cutoff points will be.\n",
    "autos[\"price\"].value_counts().sort_index(ascending=True).head(20)"
   ]
  },
  {
   "cell_type": "code",
   "execution_count": 83,
   "metadata": {},
   "outputs": [
    {
     "output_type": "execute_result",
     "data": {
      "text/plain": "99999999    1\n27322222    1\n12345678    3\n11111111    2\n10000000    1\n3890000     1\n1300000     1\n1234566     1\n999999      2\n999990      1\n350000      1\n345000      1\n299000      1\n295000      1\n265000      1\n259000      1\n250000      1\n220000      1\n198000      1\n197000      1\nName: price, dtype: int64"
     },
     "metadata": {},
     "execution_count": 83
    }
   ],
   "source": [
    "autos[\"price\"].value_counts().sort_index(ascending=False).head(20)"
   ]
  },
  {
   "source": [
    "There are about 1400 entries with a price of \\$0 I will keep any rows with a price above \\$0 because this is eBay, a \\$1 price may be legitimate. There are also prices that steadily rise until \\$350,000, when the price jumps to \\$999,990. I will keep any rows with a price up to \\$350k."
   ],
   "cell_type": "markdown",
   "metadata": {}
  },
  {
   "cell_type": "code",
   "execution_count": 84,
   "metadata": {},
   "outputs": [
    {
     "output_type": "execute_result",
     "data": {
      "text/plain": "count     48565.000000\nmean       5888.935591\nstd        9059.854754\nmin           1.000000\n25%        1200.000000\n50%        3000.000000\n75%        7490.000000\nmax      350000.000000\nName: price, dtype: float64"
     },
     "metadata": {},
     "execution_count": 84
    }
   ],
   "source": [
    "autos = autos[autos[\"price\"].between(1,351000)]\n",
    "autos[\"price\"].describe()"
   ]
  },
  {
   "cell_type": "code",
   "execution_count": 103,
   "metadata": {},
   "outputs": [
    {
     "output_type": "execute_result",
     "data": {
      "text/plain": "(48545,)"
     },
     "metadata": {},
     "execution_count": 103
    }
   ],
   "source": [
    "autos[\"odometer_km\"].shape\n",
    "#There are 48,565 unqiue values"
   ]
  },
  {
   "cell_type": "code",
   "execution_count": 104,
   "metadata": {},
   "outputs": [
    {
     "output_type": "execute_result",
     "data": {
      "text/plain": "count     48545.000000\nmean     125819.136883\nstd       39723.379171\nmin        5000.000000\n25%      125000.000000\n50%      150000.000000\n75%      150000.000000\nmax      150000.000000\nName: odometer_km, dtype: float64"
     },
     "metadata": {},
     "execution_count": 104
    }
   ],
   "source": [
    "autos[\"odometer_km\"].describe()\n",
    "#min is 5k miles, max is 150k miles. these all seem legitimate."
   ]
  },
  {
   "cell_type": "code",
   "execution_count": 105,
   "metadata": {},
   "outputs": [
    {
     "output_type": "execute_result",
     "data": {
      "text/plain": "150000    31414\n125000     5057\n100000     2115\n90000      1734\n80000      1415\n70000      1217\n60000      1155\n50000      1012\n5000        823\n40000       815\n30000       780\n20000       762\n10000       246\nName: odometer_km, dtype: int64"
     },
     "metadata": {},
     "execution_count": 105
    }
   ],
   "source": [
    "autos[\"odometer_km\"].value_counts()\n",
    "#So maybe this is a preset field the seller can pick from. The values look rounded, with significant gaps between values. So will not eliminate any of these rows based on outlier data."
   ]
  },
  {
   "cell_type": "code",
   "execution_count": 88,
   "metadata": {},
   "outputs": [
    {
     "output_type": "execute_result",
     "data": {
      "text/plain": "          date_crawled           ad_created            last_seen\n0  2016-03-26 17:47:46  2016-03-26 00:00:00  2016-04-06 06:45:54\n1  2016-04-04 13:38:56  2016-04-04 00:00:00  2016-04-06 14:45:08\n2  2016-03-26 18:57:24  2016-03-26 00:00:00  2016-04-06 20:15:37\n3  2016-03-12 16:58:10  2016-03-12 00:00:00  2016-03-15 03:16:28\n4  2016-04-01 14:38:50  2016-04-01 00:00:00  2016-04-01 14:38:50",
      "text/html": "<div>\n<style scoped>\n    .dataframe tbody tr th:only-of-type {\n        vertical-align: middle;\n    }\n\n    .dataframe tbody tr th {\n        vertical-align: top;\n    }\n\n    .dataframe thead th {\n        text-align: right;\n    }\n</style>\n<table border=\"1\" class=\"dataframe\">\n  <thead>\n    <tr style=\"text-align: right;\">\n      <th></th>\n      <th>date_crawled</th>\n      <th>ad_created</th>\n      <th>last_seen</th>\n    </tr>\n  </thead>\n  <tbody>\n    <tr>\n      <th>0</th>\n      <td>2016-03-26 17:47:46</td>\n      <td>2016-03-26 00:00:00</td>\n      <td>2016-04-06 06:45:54</td>\n    </tr>\n    <tr>\n      <th>1</th>\n      <td>2016-04-04 13:38:56</td>\n      <td>2016-04-04 00:00:00</td>\n      <td>2016-04-06 14:45:08</td>\n    </tr>\n    <tr>\n      <th>2</th>\n      <td>2016-03-26 18:57:24</td>\n      <td>2016-03-26 00:00:00</td>\n      <td>2016-04-06 20:15:37</td>\n    </tr>\n    <tr>\n      <th>3</th>\n      <td>2016-03-12 16:58:10</td>\n      <td>2016-03-12 00:00:00</td>\n      <td>2016-03-15 03:16:28</td>\n    </tr>\n    <tr>\n      <th>4</th>\n      <td>2016-04-01 14:38:50</td>\n      <td>2016-04-01 00:00:00</td>\n      <td>2016-04-01 14:38:50</td>\n    </tr>\n  </tbody>\n</table>\n</div>"
     },
     "metadata": {},
     "execution_count": 88
    }
   ],
   "source": [
    "autos[['date_crawled','ad_created','last_seen']][0:5]"
   ]
  },
  {
   "cell_type": "code",
   "execution_count": 89,
   "metadata": {},
   "outputs": [
    {
     "output_type": "execute_result",
     "data": {
      "text/plain": "2016-03-05    0.025327\n2016-03-06    0.014043\n2016-03-07    0.036014\n2016-03-08    0.033296\n2016-03-09    0.033090\n2016-03-10    0.032184\n2016-03-11    0.032575\n2016-03-12    0.036920\n2016-03-13    0.015670\n2016-03-14    0.036549\n2016-03-15    0.034284\n2016-03-16    0.029610\n2016-03-17    0.031628\n2016-03-18    0.012911\n2016-03-19    0.034778\n2016-03-20    0.037887\n2016-03-21    0.037373\n2016-03-22    0.032987\n2016-03-23    0.032225\n2016-03-24    0.029342\n2016-03-25    0.031607\n2016-03-26    0.032204\n2016-03-27    0.031092\n2016-03-28    0.034860\n2016-03-29    0.034099\n2016-03-30    0.033687\n2016-03-31    0.031834\n2016-04-01    0.033687\n2016-04-02    0.035478\n2016-04-03    0.038608\n2016-04-04    0.036487\n2016-04-05    0.013096\n2016-04-06    0.003171\n2016-04-07    0.001400\nName: date_crawled, dtype: float64"
     },
     "metadata": {},
     "execution_count": 89
    }
   ],
   "source": [
    "autos['date_crawled'].str[:10].value_counts(normalize=True, dropna=False).sort_index()"
   ]
  },
  {
   "source": [
    "Looks like thsi data was crawled over a range of 34 days, from 3/5/2016 to 4/7/2016. Highest percentage of posts is on 4/3/2016, with 3.9% of the total posts, although this isn't an outlier. Many of the days have 3 - 4% of the total posts."
   ],
   "cell_type": "markdown",
   "metadata": {}
  },
  {
   "cell_type": "code",
   "execution_count": 90,
   "metadata": {},
   "outputs": [
    {
     "output_type": "execute_result",
     "data": {
      "text/plain": "2015-06-11    0.000021\n2015-08-10    0.000021\n2015-09-09    0.000021\n2015-11-10    0.000021\n2015-12-05    0.000021\n2015-12-30    0.000021\n2016-01-03    0.000021\n2016-01-07    0.000021\n2016-01-10    0.000041\n2016-01-13    0.000021\n2016-01-14    0.000021\n2016-01-16    0.000021\n2016-01-22    0.000021\n2016-01-27    0.000062\n2016-01-29    0.000021\n2016-02-01    0.000021\n2016-02-02    0.000041\n2016-02-05    0.000041\n2016-02-07    0.000021\n2016-02-08    0.000021\n2016-02-09    0.000021\n2016-02-11    0.000021\n2016-02-12    0.000041\n2016-02-14    0.000041\n2016-02-16    0.000021\n2016-02-17    0.000021\n2016-02-18    0.000041\n2016-02-19    0.000062\n2016-02-20    0.000041\n2016-02-21    0.000062\n2016-02-22    0.000021\n2016-02-23    0.000082\n2016-02-24    0.000041\n2016-02-25    0.000062\n2016-02-26    0.000041\n2016-02-27    0.000124\n2016-02-28    0.000206\n2016-02-29    0.000165\n2016-03-01    0.000103\n2016-03-02    0.000103\n2016-03-03    0.000865\n2016-03-04    0.001483\n2016-03-05    0.022897\n2016-03-06    0.015320\n2016-03-07    0.034737\n2016-03-08    0.033316\n2016-03-09    0.033151\n2016-03-10    0.031895\n2016-03-11    0.032904\n2016-03-12    0.036755\n2016-03-13    0.017008\n2016-03-14    0.035190\n2016-03-15    0.034016\n2016-03-16    0.030125\n2016-03-17    0.031278\n2016-03-18    0.013590\n2016-03-19    0.033687\n2016-03-20    0.037949\n2016-03-21    0.037579\n2016-03-22    0.032801\n2016-03-23    0.032060\n2016-03-24    0.029280\n2016-03-25    0.031751\n2016-03-26    0.032266\n2016-03-27    0.030989\n2016-03-28    0.034984\n2016-03-29    0.034037\n2016-03-30    0.033501\n2016-03-31    0.031875\n2016-04-01    0.033687\n2016-04-02    0.035149\n2016-04-03    0.038855\n2016-04-04    0.036858\n2016-04-05    0.011819\n2016-04-06    0.003253\n2016-04-07    0.001256\nName: ad_created, dtype: float64"
     },
     "metadata": {},
     "execution_count": 90
    }
   ],
   "source": [
    "pd.set_option('display.max_rows', 100)\n",
    "(autos['ad_created']\n",
    "    .str[:10]\n",
    "    .value_counts(normalize=True, dropna=False)\n",
    "    .sort_index()\n",
    "    )"
   ]
  },
  {
   "source": [
    "This field is from the website, looks like a 76 day range of values (non-contiguous) from 6/11/2015 to 4/7/2016. The percentage is less than 1% until 3/4/2016, when it begins to steadily climb until 3.5% on 3/7/2016, fluctuating from 3.9% to close to 0% for the remaining days until 4/7/2016."
   ],
   "cell_type": "markdown",
   "metadata": {}
  },
  {
   "cell_type": "code",
   "execution_count": 91,
   "metadata": {},
   "outputs": [
    {
     "output_type": "execute_result",
     "data": {
      "text/plain": "count          48565\nunique            34\ntop       2016-04-06\nfreq           10772\nName: last_seen, dtype: object"
     },
     "metadata": {},
     "execution_count": 91
    }
   ],
   "source": [
    "autos['last_seen'].str[:10].describe()"
   ]
  },
  {
   "cell_type": "code",
   "execution_count": 92,
   "metadata": {},
   "outputs": [
    {
     "output_type": "execute_result",
     "data": {
      "text/plain": "2016-03-05    0.001071\n2016-03-06    0.004324\n2016-03-07    0.005395\n2016-03-08    0.007413\n2016-03-09    0.009595\n2016-03-10    0.010666\n2016-03-11    0.012375\n2016-03-12    0.023783\n2016-03-13    0.008895\n2016-03-14    0.012602\n2016-03-15    0.015876\n2016-03-16    0.016452\n2016-03-17    0.028086\n2016-03-18    0.007351\n2016-03-19    0.015834\n2016-03-20    0.020653\n2016-03-21    0.020632\n2016-03-22    0.021373\n2016-03-23    0.018532\n2016-03-24    0.019767\n2016-03-25    0.019211\n2016-03-26    0.016802\n2016-03-27    0.015649\n2016-03-28    0.020859\n2016-03-29    0.022341\n2016-03-30    0.024771\n2016-03-31    0.023783\n2016-04-01    0.022794\n2016-04-02    0.024915\n2016-04-03    0.025203\n2016-04-04    0.024483\n2016-04-05    0.124761\n2016-04-06    0.221806\n2016-04-07    0.131947\nName: last_seen, dtype: float64"
     },
     "metadata": {},
     "execution_count": 92
    }
   ],
   "source": [
    "autos['last_seen'].str[:10].value_counts(normalize=True, dropna=False).sort_index()"
   ]
  },
  {
   "source": [
    "Same date range of 34 days for date_crawled, from 3/5/2016 to 4/7/2016. The last 3 days see much higher percentages of posts last seen than the other days. Maybe this is due to how the crawler counts the last time it saw a post before ending? Or maybe there was a big spike in the selling of cars on those dates for some reason, although that seems unlikely."
   ],
   "cell_type": "markdown",
   "metadata": {}
  },
  {
   "cell_type": "code",
   "execution_count": 93,
   "metadata": {},
   "outputs": [
    {
     "output_type": "execute_result",
     "data": {
      "text/plain": "count    48565.000000\nmean      2004.755421\nstd         88.643887\nmin       1000.000000\n25%       1999.000000\n50%       2004.000000\n75%       2008.000000\nmax       9999.000000\nName: registration_year, dtype: float64"
     },
     "metadata": {},
     "execution_count": 93
    }
   ],
   "source": [
    "autos['registration_year'].describe()"
   ]
  },
  {
   "source": [
    "Looks like some of this registration year data is inaccurate. A car could not be registered in the year 1000 or 9999. Let's look at these cases more in depth and brainstorm what we can do about them."
   ],
   "cell_type": "markdown",
   "metadata": {}
  },
  {
   "cell_type": "code",
   "execution_count": 94,
   "metadata": {},
   "outputs": [
    {
     "output_type": "execute_result",
     "data": {
      "text/plain": "1000    1\n1001    1\n1111    1\n1800    2\n1910    5\n1927    1\n1929    1\n1931    1\n1934    2\n1937    4\n1938    1\n1939    1\n1941    2\n1943    1\n1948    1\n1950    3\n1951    2\n1952    1\n1953    1\n1954    2\nName: registration_year, dtype: int64"
     },
     "metadata": {},
     "execution_count": 94
    }
   ],
   "source": [
    "autos[\"registration_year\"].value_counts().sort_index(ascending=True).head(20)"
   ]
  },
  {
   "source": [
    "I am going to remove all years before 1910. Based on some general internet research, seems the first car was invented by Carl Benz in 1885/1886."
   ],
   "cell_type": "markdown",
   "metadata": {}
  },
  {
   "cell_type": "code",
   "execution_count": 95,
   "metadata": {},
   "outputs": [
    {
     "output_type": "execute_result",
     "data": {
      "text/plain": "9999       3\n9000       1\n8888       1\n6200       1\n5911       1\n5000       4\n4800       1\n4500       1\n4100       1\n2800       1\n2019       2\n2018     470\n2017    1392\n2016    1220\n2015     392\n2014     663\n2013     803\n2012    1310\n2011    1623\n2010    1589\nName: registration_year, dtype: int64"
     },
     "metadata": {},
     "execution_count": 95
    }
   ],
   "source": [
    "autos[\"registration_year\"].value_counts().sort_index(ascending=False).head(20)"
   ]
  },
  {
   "source": [
    "I'll keep any year until 2019, as 2800 is not a valid year."
   ],
   "cell_type": "markdown",
   "metadata": {}
  },
  {
   "cell_type": "code",
   "execution_count": 96,
   "metadata": {},
   "outputs": [
    {
     "output_type": "execute_result",
     "data": {
      "text/plain": "count    48545.000000\nmean      2003.461510\nstd          7.566196\nmin       1910.000000\n25%       1999.000000\n50%       2004.000000\n75%       2008.000000\nmax       2019.000000\nName: registration_year, dtype: float64"
     },
     "metadata": {},
     "execution_count": 96
    }
   ],
   "source": [
    "autos = autos[autos[\"registration_year\"].between(1910,2020)]\n",
    "autos[\"registration_year\"].describe()"
   ]
  },
  {
   "cell_type": "code",
   "execution_count": 97,
   "metadata": {},
   "outputs": [
    {
     "output_type": "execute_result",
     "data": {
      "text/plain": "2000    0.065012\n2005    0.060480\n1999    0.059677\n2004    0.055680\n2003    0.055598\n2006    0.055001\n2001    0.054300\n2002    0.051210\n1998    0.048676\n2007    0.046905\n2008    0.045628\n2009    0.042950\n1997    0.040190\n2011    0.033433\n2010    0.032733\n2017    0.028674\n1996    0.028283\n2012    0.026985\n1995    0.025276\n2016    0.025131\n2013    0.016541\n2014    0.013657\n1994    0.012957\n2018    0.009682\n1993    0.008755\n2015    0.008075\n1992    0.007622\n1990    0.007148\n1991    0.006983\n1989    0.003584\n1988    0.002781\n1985    0.001957\n1980    0.001751\n1987    0.001483\n1986    0.001483\n1983    0.001051\n1984    0.001051\n1978    0.000906\n1982    0.000845\n1970    0.000783\n1979    0.000700\n1972    0.000680\n1981    0.000577\n1968    0.000536\n1971    0.000536\n1967    0.000536\n1974    0.000494\n1960    0.000474\n1973    0.000474\n1977    0.000453\n1966    0.000453\n1976    0.000433\n1969    0.000391\n1975    0.000371\n1965    0.000350\n1964    0.000247\n1963    0.000165\n1959    0.000124\n1961    0.000124\n1910    0.000103\n1937    0.000082\n1962    0.000082\n1958    0.000082\n1956    0.000082\n1950    0.000062\n1955    0.000041\n2019    0.000041\n1934    0.000041\n1957    0.000041\n1951    0.000041\n1941    0.000041\n1954    0.000041\n1953    0.000021\n1948    0.000021\n1927    0.000021\n1943    0.000021\n1929    0.000021\n1939    0.000021\n1938    0.000021\n1931    0.000021\n1952    0.000021\nName: registration_year, dtype: float64"
     },
     "metadata": {},
     "execution_count": 97
    }
   ],
   "source": [
    "autos[\"registration_year\"].value_counts(normalize=True)"
   ]
  },
  {
   "source": [
    "Looks like most cars being sold were registered in the late 1990s or early 2000s."
   ],
   "cell_type": "markdown",
   "metadata": {}
  },
  {
   "cell_type": "code",
   "execution_count": 98,
   "metadata": {},
   "outputs": [
    {
     "output_type": "execute_result",
     "data": {
      "text/plain": "volkswagen        0.212813\nopel              0.108641\nbmw               0.108641\nmercedes_benz     0.095787\naudi              0.085858\nford              0.069667\nrenault           0.047894\npeugeot           0.029457\nfiat              0.025996\nseat              0.018931\nskoda             0.016068\nnissan            0.015264\nmazda             0.015223\nsmart             0.014296\ncitroen           0.014111\ntoyota            0.012586\nhyundai           0.009950\nsonstige_autos    0.009641\nvolvo             0.009043\nmini              0.008611\nmitsubishi        0.008178\nhonda             0.007993\nkia               0.007107\nalfa_romeo        0.006612\nporsche           0.005912\nsuzuki            0.005891\nchevrolet         0.005665\nchrysler          0.003481\ndacia             0.002657\ndaihatsu          0.002513\njeep              0.002204\nsubaru            0.002101\nland_rover        0.002039\nsaab              0.001627\ndaewoo            0.001566\njaguar            0.001524\ntrabant           0.001380\nrover             0.001339\nlancia            0.001133\nlada              0.000597\nName: brand, dtype: float64"
     },
     "metadata": {},
     "execution_count": 98
    }
   ],
   "source": [
    "autos['brand'].value_counts(normalize=True)"
   ]
  },
  {
   "source": [
    "German manaufacturers represent the top 5 brands, at around 50% of thd total overal listings. There are many brands without a significant number of listings (from Hyuandai down, it's less than 1% of listings) so I will remove brands with less than 1% of total listings."
   ],
   "cell_type": "markdown",
   "metadata": {}
  },
  {
   "cell_type": "code",
   "execution_count": 109,
   "metadata": {
    "tags": []
   },
   "outputs": [
    {
     "output_type": "stream",
     "name": "stdout",
     "text": "Index(['volkswagen', 'opel', 'bmw', 'mercedes_benz', 'audi', 'ford', 'renault',\n       'peugeot', 'fiat', 'seat', 'skoda', 'nissan', 'mazda', 'smart',\n       'citroen', 'toyota'],\n      dtype='object')\n"
    }
   ],
   "source": [
    "brand_counts = autos['brand'].value_counts(normalize=True)\n",
    "brands_greater_than_1_percent = brand_counts[brand_counts > 0.01].index\n",
    "print(brands_greater_than_1_percent)"
   ]
  },
  {
   "cell_type": "code",
   "execution_count": 122,
   "metadata": {},
   "outputs": [
    {
     "output_type": "execute_result",
     "data": {
      "text/plain": "{'volkswagen': 5333.1962055948115,\n 'opel': 2941.4664391353813,\n 'bmw': 8261.382442169132,\n 'mercedes_benz': 8526.623225806452,\n 'audi': 9212.9306621881,\n 'ford': 3728.4121821407452,\n 'renault': 2431.195698924731,\n 'peugeot': 3065.611888111888,\n 'fiat': 2793.8700475435817,\n 'seat': 4320.168661588684,\n 'skoda': 6353.544871794872,\n 'nissan': 4669.3859649122805,\n 'mazda': 4059.059539918809,\n 'smart': 3518.102305475504,\n 'citroen': 3756.07299270073,\n 'toyota': 5148.0032733224225}"
     },
     "metadata": {},
     "execution_count": 122
    }
   ],
   "source": [
    "brand_mean_prices = {}\n",
    "\n",
    "for brand in brands_greater_than_1_percent:\n",
    "    brand_only = autos[autos['brand'] == brand]\n",
    "    mean_price = brand_only['price'].mean()\n",
    "    brand_mean_prices[brand] = mean_price\n",
    "    \n",
    "brand_mean_prices"
   ]
  },
  {
   "source": [
    "- BMW, Mercedes, and Audi are the most expensive brands, all above \\$8,200. \n",
    "- Then there is a distinct drop off to less expensiove brands like Volkswagen, Seat, Skoda, and Toyota in the \\$5,000 to \\$6,400 range. Thes brands fall inbetween the less and more expensive brands.\n",
    "- Then all the remaining brands are less expensive."
   ],
   "cell_type": "markdown",
   "metadata": {}
  },
  {
   "cell_type": "code",
   "execution_count": 125,
   "metadata": {},
   "outputs": [
    {
     "output_type": "execute_result",
     "data": {
      "text/plain": "{'volkswagen': 128955,\n 'opel': 129452,\n 'bmw': 132682,\n 'mercedes_benz': 130848,\n 'audi': 129492,\n 'ford': 124349,\n 'renault': 128062,\n 'peugeot': 127356,\n 'fiat': 117567,\n 'seat': 121768,\n 'skoda': 110993,\n 'nissan': 118711,\n 'mazda': 124871,\n 'smart': 100511,\n 'citroen': 120160,\n 'toyota': 116219}"
     },
     "metadata": {},
     "execution_count": 125
    }
   ],
   "source": [
    "brand_mean_mileage = {}\n",
    "\n",
    "for brand in brands_greater_than_1_percent:\n",
    "    brand_only = autos[autos['brand'] == brand]\n",
    "    mean_mileage = brand_only['odometer_km'].mean()\n",
    "    brand_mean_mileage[brand] = int(mean_mileage)\n",
    "    \n",
    "brand_mean_mileage"
   ]
  },
  {
   "cell_type": "code",
   "execution_count": 126,
   "metadata": {},
   "outputs": [
    {
     "output_type": "execute_result",
     "data": {
      "text/plain": "volkswagen       5333.196206\nopel             2941.466439\nbmw              8261.382442\nmercedes_benz    8526.623226\naudi             9212.930662\nford             3728.412182\nrenault          2431.195699\npeugeot          3065.611888\nfiat             2793.870048\nseat             4320.168662\nskoda            6353.544872\nnissan           4669.385965\nmazda            4059.059540\nsmart            3518.102305\ncitroen          3756.072993\ntoyota           5148.003273\ndtype: float64"
     },
     "metadata": {},
     "execution_count": 126
    }
   ],
   "source": [
    "brand_mean_prices_series = pd.Series(brand_mean_prices)\n",
    "brand_mean_mileage_series = pd.Series(brand_mean_mileage)"
   ]
  },
  {
   "cell_type": "code",
   "execution_count": 133,
   "metadata": {},
   "outputs": [
    {
     "output_type": "execute_result",
     "data": {
      "text/plain": "                mean_price  mean_mileage\nvolkswagen     5333.196206        128955\nopel           2941.466439        129452\nbmw            8261.382442        132682\nmercedes_benz  8526.623226        130848\naudi           9212.930662        129492\nford           3728.412182        124349\nrenault        2431.195699        128062\npeugeot        3065.611888        127356\nfiat           2793.870048        117567\nseat           4320.168662        121768\nskoda          6353.544872        110993\nnissan         4669.385965        118711\nmazda          4059.059540        124871\nsmart          3518.102305        100511\ncitroen        3756.072993        120160\ntoyota         5148.003273        116219",
      "text/html": "<div>\n<style scoped>\n    .dataframe tbody tr th:only-of-type {\n        vertical-align: middle;\n    }\n\n    .dataframe tbody tr th {\n        vertical-align: top;\n    }\n\n    .dataframe thead th {\n        text-align: right;\n    }\n</style>\n<table border=\"1\" class=\"dataframe\">\n  <thead>\n    <tr style=\"text-align: right;\">\n      <th></th>\n      <th>mean_price</th>\n      <th>mean_mileage</th>\n    </tr>\n  </thead>\n  <tbody>\n    <tr>\n      <th>volkswagen</th>\n      <td>5333.196206</td>\n      <td>128955</td>\n    </tr>\n    <tr>\n      <th>opel</th>\n      <td>2941.466439</td>\n      <td>129452</td>\n    </tr>\n    <tr>\n      <th>bmw</th>\n      <td>8261.382442</td>\n      <td>132682</td>\n    </tr>\n    <tr>\n      <th>mercedes_benz</th>\n      <td>8526.623226</td>\n      <td>130848</td>\n    </tr>\n    <tr>\n      <th>audi</th>\n      <td>9212.930662</td>\n      <td>129492</td>\n    </tr>\n    <tr>\n      <th>ford</th>\n      <td>3728.412182</td>\n      <td>124349</td>\n    </tr>\n    <tr>\n      <th>renault</th>\n      <td>2431.195699</td>\n      <td>128062</td>\n    </tr>\n    <tr>\n      <th>peugeot</th>\n      <td>3065.611888</td>\n      <td>127356</td>\n    </tr>\n    <tr>\n      <th>fiat</th>\n      <td>2793.870048</td>\n      <td>117567</td>\n    </tr>\n    <tr>\n      <th>seat</th>\n      <td>4320.168662</td>\n      <td>121768</td>\n    </tr>\n    <tr>\n      <th>skoda</th>\n      <td>6353.544872</td>\n      <td>110993</td>\n    </tr>\n    <tr>\n      <th>nissan</th>\n      <td>4669.385965</td>\n      <td>118711</td>\n    </tr>\n    <tr>\n      <th>mazda</th>\n      <td>4059.059540</td>\n      <td>124871</td>\n    </tr>\n    <tr>\n      <th>smart</th>\n      <td>3518.102305</td>\n      <td>100511</td>\n    </tr>\n    <tr>\n      <th>citroen</th>\n      <td>3756.072993</td>\n      <td>120160</td>\n    </tr>\n    <tr>\n      <th>toyota</th>\n      <td>5148.003273</td>\n      <td>116219</td>\n    </tr>\n  </tbody>\n</table>\n</div>"
     },
     "metadata": {},
     "execution_count": 133
    }
   ],
   "source": [
    "brand_dataframe = pd.DataFrame(brand_mean_prices_series, columns = ['mean_price'])\n",
    "brand_dataframe[\"mean_mileage\"] = brand_mean_mileage_series\n",
    "brand_dataframe"
   ]
  },
  {
   "source": [
    "It appears the more expensive brands are associated with higher mileage, as BMW, Mercedes, and Audi are above 129k miles, which is close to BMW's max of 133k miles. The less expensive cars, like smart, fiat, and ford are associated with lower mileage, although opel looks like an outlier in this relationship (low price, high mileage)."
   ],
   "cell_type": "markdown",
   "metadata": {}
  }
 ],
 "metadata": {
  "kernelspec": {
   "display_name": "Python 3",
   "language": "python",
   "name": "python3"
  },
  "language_info": {
   "codemirror_mode": {
    "name": "ipython",
    "version": 3
   },
   "file_extension": ".py",
   "mimetype": "text/x-python",
   "name": "python",
   "nbconvert_exporter": "python",
   "pygments_lexer": "ipython3",
   "version": "3.8.3-final"
  }
 },
 "nbformat": 4,
 "nbformat_minor": 2
}